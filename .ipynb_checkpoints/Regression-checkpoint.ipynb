{
 "cells": [
  {
   "cell_type": "code",
   "execution_count": 1,
   "id": "dd780a46",
   "metadata": {},
   "outputs": [],
   "source": [
    "import numpy as np\n",
    "import pandas as pd\n",
    "import matplotlib.pyplot as plt\n",
    "import seaborn as sns\n",
    "\n",
    "import matplotlib.font_manager as fm\n",
    "font_name = fm.FontProperties(fname=\"C:\\\\Windows\\\\Fonts\\\\malgun.ttf\").get_name()\n",
    "plt.rc(\"font\", family=font_name)\n",
    "\n",
    "import matplotlib as mlp\n",
    "mlp.rcParams[\"axes.unicode_minus\"] = False"
   ]
  },
  {
   "cell_type": "code",
   "execution_count": 2,
   "id": "8fce6cd8",
   "metadata": {},
   "outputs": [],
   "source": [
    "from sklearn.model_selection import train_test_split\n",
    "from sklearn.model_selection import GridSearchCV\n",
    "from sklearn.model_selection import cross_val_score\n",
    "\n",
    "from sklearn.metrics import accuracy_score, confusion_matrix\n",
    "from sklearn.metrics import classification_report,roc_curve"
   ]
  },
  {
   "cell_type": "code",
   "execution_count": 3,
   "id": "7766afcb",
   "metadata": {},
   "outputs": [],
   "source": [
    "from sklearn.linear_model import Ridge"
   ]
  },
  {
   "cell_type": "code",
   "execution_count": 4,
   "id": "0e30a39f",
   "metadata": {},
   "outputs": [
    {
     "data": {
      "text/html": [
       "<div>\n",
       "<style scoped>\n",
       "    .dataframe tbody tr th:only-of-type {\n",
       "        vertical-align: middle;\n",
       "    }\n",
       "\n",
       "    .dataframe tbody tr th {\n",
       "        vertical-align: top;\n",
       "    }\n",
       "\n",
       "    .dataframe thead th {\n",
       "        text-align: right;\n",
       "    }\n",
       "</style>\n",
       "<table border=\"1\" class=\"dataframe\">\n",
       "  <thead>\n",
       "    <tr style=\"text-align: right;\">\n",
       "      <th></th>\n",
       "      <th>gid</th>\n",
       "      <th>체육시설</th>\n",
       "      <th>관광명소</th>\n",
       "      <th>도서관</th>\n",
       "      <th>버스</th>\n",
       "      <th>산업단지</th>\n",
       "      <th>쇼핑</th>\n",
       "      <th>야영장</th>\n",
       "      <th>택시</th>\n",
       "      <th>공공_문화체육</th>\n",
       "      <th>유통_공급시설</th>\n",
       "      <th>환경기초시설</th>\n",
       "      <th>인구수</th>\n",
       "      <th>전기차등록수</th>\n",
       "      <th>혼잡빈도</th>\n",
       "      <th>혼잡시간강도</th>\n",
       "      <th>450m</th>\n",
       "      <th>급속</th>\n",
       "      <th>완속</th>\n",
       "    </tr>\n",
       "  </thead>\n",
       "  <tbody>\n",
       "    <tr>\n",
       "      <th>0</th>\n",
       "      <td>다사643560</td>\n",
       "      <td>0</td>\n",
       "      <td>0</td>\n",
       "      <td>0</td>\n",
       "      <td>1</td>\n",
       "      <td>0</td>\n",
       "      <td>0</td>\n",
       "      <td>0</td>\n",
       "      <td>0</td>\n",
       "      <td>0</td>\n",
       "      <td>0</td>\n",
       "      <td>0</td>\n",
       "      <td>0.004386</td>\n",
       "      <td>0.005459</td>\n",
       "      <td>0.602352</td>\n",
       "      <td>0.662026</td>\n",
       "      <td>0</td>\n",
       "      <td>0</td>\n",
       "      <td>0</td>\n",
       "    </tr>\n",
       "    <tr>\n",
       "      <th>1</th>\n",
       "      <td>다사647551</td>\n",
       "      <td>0</td>\n",
       "      <td>0</td>\n",
       "      <td>0</td>\n",
       "      <td>0</td>\n",
       "      <td>0</td>\n",
       "      <td>0</td>\n",
       "      <td>0</td>\n",
       "      <td>0</td>\n",
       "      <td>0</td>\n",
       "      <td>0</td>\n",
       "      <td>0</td>\n",
       "      <td>0.022555</td>\n",
       "      <td>0.008748</td>\n",
       "      <td>0.524508</td>\n",
       "      <td>0.701469</td>\n",
       "      <td>0</td>\n",
       "      <td>0</td>\n",
       "      <td>0</td>\n",
       "    </tr>\n",
       "    <tr>\n",
       "      <th>2</th>\n",
       "      <td>다사629554</td>\n",
       "      <td>0</td>\n",
       "      <td>0</td>\n",
       "      <td>0</td>\n",
       "      <td>0</td>\n",
       "      <td>0</td>\n",
       "      <td>0</td>\n",
       "      <td>0</td>\n",
       "      <td>0</td>\n",
       "      <td>0</td>\n",
       "      <td>0</td>\n",
       "      <td>0</td>\n",
       "      <td>0.003446</td>\n",
       "      <td>0.009837</td>\n",
       "      <td>0.848475</td>\n",
       "      <td>0.884506</td>\n",
       "      <td>1</td>\n",
       "      <td>2</td>\n",
       "      <td>0</td>\n",
       "    </tr>\n",
       "    <tr>\n",
       "      <th>3</th>\n",
       "      <td>다사645566</td>\n",
       "      <td>0</td>\n",
       "      <td>0</td>\n",
       "      <td>0</td>\n",
       "      <td>0</td>\n",
       "      <td>0</td>\n",
       "      <td>0</td>\n",
       "      <td>0</td>\n",
       "      <td>0</td>\n",
       "      <td>0</td>\n",
       "      <td>0</td>\n",
       "      <td>0</td>\n",
       "      <td>0.042916</td>\n",
       "      <td>0.005459</td>\n",
       "      <td>0.602352</td>\n",
       "      <td>0.662026</td>\n",
       "      <td>0</td>\n",
       "      <td>0</td>\n",
       "      <td>0</td>\n",
       "    </tr>\n",
       "    <tr>\n",
       "      <th>4</th>\n",
       "      <td>다사631573</td>\n",
       "      <td>0</td>\n",
       "      <td>0</td>\n",
       "      <td>0</td>\n",
       "      <td>1</td>\n",
       "      <td>0</td>\n",
       "      <td>0</td>\n",
       "      <td>0</td>\n",
       "      <td>0</td>\n",
       "      <td>0</td>\n",
       "      <td>0</td>\n",
       "      <td>0</td>\n",
       "      <td>0.053254</td>\n",
       "      <td>0.007862</td>\n",
       "      <td>0.686128</td>\n",
       "      <td>0.786156</td>\n",
       "      <td>1</td>\n",
       "      <td>2</td>\n",
       "      <td>2</td>\n",
       "    </tr>\n",
       "    <tr>\n",
       "      <th>...</th>\n",
       "      <td>...</td>\n",
       "      <td>...</td>\n",
       "      <td>...</td>\n",
       "      <td>...</td>\n",
       "      <td>...</td>\n",
       "      <td>...</td>\n",
       "      <td>...</td>\n",
       "      <td>...</td>\n",
       "      <td>...</td>\n",
       "      <td>...</td>\n",
       "      <td>...</td>\n",
       "      <td>...</td>\n",
       "      <td>...</td>\n",
       "      <td>...</td>\n",
       "      <td>...</td>\n",
       "      <td>...</td>\n",
       "      <td>...</td>\n",
       "      <td>...</td>\n",
       "      <td>...</td>\n",
       "    </tr>\n",
       "    <tr>\n",
       "      <th>64671</th>\n",
       "      <td>다사638443</td>\n",
       "      <td>0</td>\n",
       "      <td>0</td>\n",
       "      <td>0</td>\n",
       "      <td>0</td>\n",
       "      <td>0</td>\n",
       "      <td>0</td>\n",
       "      <td>0</td>\n",
       "      <td>0</td>\n",
       "      <td>0</td>\n",
       "      <td>0</td>\n",
       "      <td>0</td>\n",
       "      <td>0.000000</td>\n",
       "      <td>0.005646</td>\n",
       "      <td>0.438235</td>\n",
       "      <td>0.511988</td>\n",
       "      <td>1</td>\n",
       "      <td>1</td>\n",
       "      <td>0</td>\n",
       "    </tr>\n",
       "    <tr>\n",
       "      <th>64672</th>\n",
       "      <td>다사610430</td>\n",
       "      <td>0</td>\n",
       "      <td>0</td>\n",
       "      <td>0</td>\n",
       "      <td>2</td>\n",
       "      <td>0</td>\n",
       "      <td>0</td>\n",
       "      <td>0</td>\n",
       "      <td>0</td>\n",
       "      <td>1</td>\n",
       "      <td>0</td>\n",
       "      <td>0</td>\n",
       "      <td>0.000000</td>\n",
       "      <td>0.014755</td>\n",
       "      <td>0.643667</td>\n",
       "      <td>0.652488</td>\n",
       "      <td>0</td>\n",
       "      <td>0</td>\n",
       "      <td>0</td>\n",
       "    </tr>\n",
       "    <tr>\n",
       "      <th>64673</th>\n",
       "      <td>다사649419</td>\n",
       "      <td>0</td>\n",
       "      <td>0</td>\n",
       "      <td>0</td>\n",
       "      <td>0</td>\n",
       "      <td>0</td>\n",
       "      <td>0</td>\n",
       "      <td>0</td>\n",
       "      <td>0</td>\n",
       "      <td>0</td>\n",
       "      <td>0</td>\n",
       "      <td>0</td>\n",
       "      <td>0.000000</td>\n",
       "      <td>0.006067</td>\n",
       "      <td>0.425434</td>\n",
       "      <td>0.510699</td>\n",
       "      <td>1</td>\n",
       "      <td>1</td>\n",
       "      <td>4</td>\n",
       "    </tr>\n",
       "    <tr>\n",
       "      <th>64674</th>\n",
       "      <td>다사646399</td>\n",
       "      <td>0</td>\n",
       "      <td>0</td>\n",
       "      <td>0</td>\n",
       "      <td>0</td>\n",
       "      <td>0</td>\n",
       "      <td>0</td>\n",
       "      <td>0</td>\n",
       "      <td>0</td>\n",
       "      <td>0</td>\n",
       "      <td>0</td>\n",
       "      <td>0</td>\n",
       "      <td>0.000000</td>\n",
       "      <td>0.006067</td>\n",
       "      <td>0.425434</td>\n",
       "      <td>0.510699</td>\n",
       "      <td>0</td>\n",
       "      <td>0</td>\n",
       "      <td>0</td>\n",
       "    </tr>\n",
       "    <tr>\n",
       "      <th>64675</th>\n",
       "      <td>다사594476</td>\n",
       "      <td>0</td>\n",
       "      <td>0</td>\n",
       "      <td>0</td>\n",
       "      <td>0</td>\n",
       "      <td>0</td>\n",
       "      <td>0</td>\n",
       "      <td>0</td>\n",
       "      <td>0</td>\n",
       "      <td>0</td>\n",
       "      <td>0</td>\n",
       "      <td>0</td>\n",
       "      <td>0.000000</td>\n",
       "      <td>0.008155</td>\n",
       "      <td>0.526069</td>\n",
       "      <td>0.698376</td>\n",
       "      <td>0</td>\n",
       "      <td>0</td>\n",
       "      <td>0</td>\n",
       "    </tr>\n",
       "  </tbody>\n",
       "</table>\n",
       "<p>64676 rows × 19 columns</p>\n",
       "</div>"
      ],
      "text/plain": [
       "            gid  체육시설  관광명소  도서관  버스  산업단지  쇼핑  야영장  택시  공공_문화체육  유통_공급시설  \\\n",
       "0      다사643560     0     0    0   1     0   0    0   0        0        0   \n",
       "1      다사647551     0     0    0   0     0   0    0   0        0        0   \n",
       "2      다사629554     0     0    0   0     0   0    0   0        0        0   \n",
       "3      다사645566     0     0    0   0     0   0    0   0        0        0   \n",
       "4      다사631573     0     0    0   1     0   0    0   0        0        0   \n",
       "...         ...   ...   ...  ...  ..   ...  ..  ...  ..      ...      ...   \n",
       "64671  다사638443     0     0    0   0     0   0    0   0        0        0   \n",
       "64672  다사610430     0     0    0   2     0   0    0   0        1        0   \n",
       "64673  다사649419     0     0    0   0     0   0    0   0        0        0   \n",
       "64674  다사646399     0     0    0   0     0   0    0   0        0        0   \n",
       "64675  다사594476     0     0    0   0     0   0    0   0        0        0   \n",
       "\n",
       "       환경기초시설       인구수    전기차등록수      혼잡빈도    혼잡시간강도  450m  급속  완속  \n",
       "0           0  0.004386  0.005459  0.602352  0.662026     0   0   0  \n",
       "1           0  0.022555  0.008748  0.524508  0.701469     0   0   0  \n",
       "2           0  0.003446  0.009837  0.848475  0.884506     1   2   0  \n",
       "3           0  0.042916  0.005459  0.602352  0.662026     0   0   0  \n",
       "4           0  0.053254  0.007862  0.686128  0.786156     1   2   2  \n",
       "...       ...       ...       ...       ...       ...   ...  ..  ..  \n",
       "64671       0  0.000000  0.005646  0.438235  0.511988     1   1   0  \n",
       "64672       0  0.000000  0.014755  0.643667  0.652488     0   0   0  \n",
       "64673       0  0.000000  0.006067  0.425434  0.510699     1   1   4  \n",
       "64674       0  0.000000  0.006067  0.425434  0.510699     0   0   0  \n",
       "64675       0  0.000000  0.008155  0.526069  0.698376     0   0   0  \n",
       "\n",
       "[64676 rows x 19 columns]"
      ]
     },
     "execution_count": 4,
     "metadata": {},
     "output_type": "execute_result"
    }
   ],
   "source": [
    "df = pd.read_csv(\"data/450m최종데이터.csv\").fillna(0)\n",
    "df"
   ]
  },
  {
   "cell_type": "code",
   "execution_count": 5,
   "id": "6ed1c6ef",
   "metadata": {
    "collapsed": true
   },
   "outputs": [
    {
     "data": {
      "text/plain": [
       "급속\n",
       "0     41572\n",
       "1     11059\n",
       "2      5716\n",
       "3      2952\n",
       "4      1590\n",
       "5       657\n",
       "6       571\n",
       "7       267\n",
       "8        85\n",
       "11       70\n",
       "10       51\n",
       "12       49\n",
       "9        26\n",
       "13        5\n",
       "14        5\n",
       "16        1\n",
       "dtype: int64"
      ]
     },
     "execution_count": 5,
     "metadata": {},
     "output_type": "execute_result"
    }
   ],
   "source": [
    "X = df.iloc[:,[1,2,3,4,5,6,7,8,9,10,11,12,13,14,15]]\n",
    "y = df.iloc[:,[17]]\n",
    "y.value_counts()"
   ]
  },
  {
   "cell_type": "code",
   "execution_count": 6,
   "id": "77abbb6b",
   "metadata": {},
   "outputs": [
    {
     "name": "stdout",
     "output_type": "stream",
     "text": [
      "(58208, 15) (6468, 15)\n"
     ]
    }
   ],
   "source": [
    "X_train, X_test, y_train, y_test = train_test_split(X, y, random_state=3, test_size=0.1)\n",
    "print(X_train.shape, X_test.shape)"
   ]
  },
  {
   "cell_type": "code",
   "execution_count": 8,
   "id": "694a243d",
   "metadata": {},
   "outputs": [
    {
     "name": "stdout",
     "output_type": "stream",
     "text": [
      "훈련점수:  0.056240628996402475\n",
      "테스트 점수:  0.038343890406556724\n"
     ]
    }
   ],
   "source": [
    "ridge = Ridge(alpha=1.0).fit(X_train, y_train) \n",
    "print(\"훈련점수: \",ridge.score(X_train, y_train))\n",
    "print(\"테스트 점수: \",ridge.score(X_test, y_test))"
   ]
  },
  {
   "cell_type": "code",
   "execution_count": 10,
   "id": "317456f2",
   "metadata": {},
   "outputs": [
    {
     "name": "stdout",
     "output_type": "stream",
     "text": [
      "훈련점수:  0.056240628996402475\n",
      "테스트 점수:  0.038343890406556724\n"
     ]
    }
   ],
   "source": [
    "ridge10 = Ridge(alpha=10).fit(X_train, y_train) \n",
    "print(\"훈련점수: \",ridge10.score(X_train, y_train))\n",
    "print(\"테스트 점수: \",ridge10.score(X_test, y_test))"
   ]
  },
  {
   "cell_type": "code",
   "execution_count": 11,
   "id": "d300355c",
   "metadata": {},
   "outputs": [
    {
     "name": "stdout",
     "output_type": "stream",
     "text": [
      "훈련점수:  0.057878040436267986\n",
      "테스트 점수:  0.03677093361037531\n"
     ]
    }
   ],
   "source": [
    "ridge01 = Ridge(alpha=0.1).fit(X_train, y_train) \n",
    "print(\"훈련점수: \",ridge01.score(X_train, y_train))\n",
    "print(\"테스트 점수: \",ridge01.score(X_test, y_test))"
   ]
  },
  {
   "cell_type": "code",
   "execution_count": 12,
   "id": "92bb9b42",
   "metadata": {},
   "outputs": [],
   "source": [
    "from sklearn.linear_model import Lasso"
   ]
  },
  {
   "cell_type": "code",
   "execution_count": 13,
   "id": "52bc5241",
   "metadata": {},
   "outputs": [
    {
     "name": "stdout",
     "output_type": "stream",
     "text": [
      "훈련점수:  0.0\n",
      "테스트 점수:  -0.00032272946029787697\n"
     ]
    }
   ],
   "source": [
    "lasso = Lasso(alpha=1.0).fit(X_train, y_train) ## default -> alpha=1.0\n",
    "\n",
    "print(\"훈련점수: \",lasso.score(X_train, y_train))\n",
    "print(\"테스트 점수: \",lasso.score(X_test, y_test))"
   ]
  },
  {
   "cell_type": "code",
   "execution_count": 14,
   "id": "05276b18",
   "metadata": {},
   "outputs": [
    {
     "name": "stdout",
     "output_type": "stream",
     "text": [
      "훈련점수:  0.05782517391403397\n",
      "테스트 점수:  0.03711759977566198\n"
     ]
    }
   ],
   "source": [
    "lasso0001 = Lasso(alpha=0.0001).fit(X_train, y_train) ## default -> alpha=1.0\n",
    "\n",
    "print(\"훈련점수: \",lasso0001.score(X_train, y_train))\n",
    "print(\"테스트 점수: \",lasso0001.score(X_test, y_test))"
   ]
  },
  {
   "cell_type": "code",
   "execution_count": 15,
   "id": "c945c072",
   "metadata": {},
   "outputs": [],
   "source": [
    "from sklearn.linear_model import LinearRegression"
   ]
  },
  {
   "cell_type": "code",
   "execution_count": 19,
   "id": "79cb0cea",
   "metadata": {},
   "outputs": [
    {
     "name": "stdout",
     "output_type": "stream",
     "text": [
      "훈련점수:  0.05787840234499386\n",
      "테스트 점수:  0.03672219605347382\n"
     ]
    }
   ],
   "source": [
    "model = LinearRegression()\n",
    "model.fit(X_train, y_train)\n",
    "print(\"훈련점수: \",model.score(X_train, y_train))\n",
    "print(\"테스트 점수: \",model.score(X_test, y_test))"
   ]
  },
  {
   "cell_type": "code",
   "execution_count": 18,
   "id": "a8020d4f",
   "metadata": {},
   "outputs": [
    {
     "data": {
      "text/plain": [
       "0.05787840234499386"
      ]
     },
     "execution_count": 18,
     "metadata": {},
     "output_type": "execute_result"
    }
   ],
   "source": [
    "model.score(X_train, y_train)"
   ]
  }
 ],
 "metadata": {
  "kernelspec": {
   "display_name": "Python 3 (ipykernel)",
   "language": "python",
   "name": "python3"
  },
  "language_info": {
   "codemirror_mode": {
    "name": "ipython",
    "version": 3
   },
   "file_extension": ".py",
   "mimetype": "text/x-python",
   "name": "python",
   "nbconvert_exporter": "python",
   "pygments_lexer": "ipython3",
   "version": "3.8.5"
  }
 },
 "nbformat": 4,
 "nbformat_minor": 5
}
