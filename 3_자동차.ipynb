{
  "nbformat": 4,
  "nbformat_minor": 0,
  "metadata": {
    "colab": {
      "name": "3.자동차.ipynb",
      "private_outputs": true,
      "provenance": [],
      "collapsed_sections": []
    },
    "kernelspec": {
      "name": "python3",
      "display_name": "Python 3"
    },
    "language_info": {
      "name": "python"
    }
  },
  "cells": [
    {
      "cell_type": "code",
      "execution_count": null,
      "metadata": {
        "id": "zJxz8ohXvvV7"
      },
      "outputs": [],
      "source": [
        "import pandas as pd\n",
        "import numpy as np\n",
        "# 코렙으로 작업해서 경로관련해서 다를수있음"
      ]
    },
    {
      "cell_type": "code",
      "source": [
        "df= pd.read_csv(\"/content/2022_02 행정동별 연료별 자동차 등록현황.csv\" , encoding =\"CP949\")\n",
        "# 이 엑셀파일에 2015년부터 2021년까지 행정동별 연료별 자동차 등록현황이 전부있음"
      ],
      "metadata": {
        "id": "30eG_bRgFn-N"
      },
      "execution_count": null,
      "outputs": []
    },
    {
      "cell_type": "code",
      "source": [
        "# 널값 제거 후 전기차 데이터만 추출\n",
        "df.dropna(inplace =True) \n",
        "df = df[df[\"연료\"] ==\"전기\"]\n"
      ],
      "metadata": {
        "id": "OhIc0-C9Gf8V"
      },
      "execution_count": null,
      "outputs": []
    },
    {
      "cell_type": "code",
      "source": [
        "#년도별로 데이터 분리\n",
        "\n",
        "df_201512 = df[df[\"연월\"] ==201512]\n",
        "df_201612 = df[df[\"연월\"] ==201612]\n",
        "df_201712 = df[df[\"연월\"] ==201712]\n",
        "df_201812 = df[df[\"연월\"] ==201812]\n",
        "df_201912 = df[df[\"연월\"] ==201912]\n",
        "df_202012 = df[df[\"연월\"] ==202012]\n",
        "df_202112 = df[df[\"연월\"] ==202112]"
      ],
      "metadata": {
        "id": "TyoTGvEAnZT7"
      },
      "execution_count": null,
      "outputs": []
    },
    {
      "cell_type": "code",
      "source": [
        ""
      ],
      "metadata": {
        "id": "DCgGIqc-nZV-"
      },
      "execution_count": null,
      "outputs": []
    },
    {
      "cell_type": "code",
      "source": [
        "# 주소별로 등록건수 합쳐줌\n",
        "df_201512 = df_201512.groupby(\"행정동사용본거지\")[\"건수\"].sum() \n",
        "df_201612 = df_201612.groupby(\"행정동사용본거지\")[\"건수\"].sum() \n",
        "df_201712 = df_201712.groupby(\"행정동사용본거지\")[\"건수\"].sum() \n",
        "df_201812 = df_201812.groupby(\"행정동사용본거지\")[\"건수\"].sum() \n",
        "df_201912 = df_201912.groupby(\"행정동사용본거지\")[\"건수\"].sum() \n",
        "df_202012 = df_202012.groupby(\"행정동사용본거지\")[\"건수\"].sum() \n",
        "df_202112 = df_202112.groupby(\"행정동사용본거지\")[\"건수\"].sum() \n"
      ],
      "metadata": {
        "id": "cYgMBpZpG0p9"
      },
      "execution_count": null,
      "outputs": []
    },
    {
      "cell_type": "code",
      "source": [
        "# 인덱스 리셋\n",
        "df_201512 = df_201512.reset_index()\n",
        "df_201612 = df_201612.reset_index()\n",
        "df_201712 = df_201712.reset_index()\n",
        "df_201812 = df_201812.reset_index()\n",
        "df_201912 = df_201912.reset_index()\n",
        "df_202012 = df_202012.reset_index()\n",
        "df_202112 = df_202112.reset_index()"
      ],
      "metadata": {
        "id": "k2jj1LWUHkHM"
      },
      "execution_count": null,
      "outputs": []
    },
    {
      "cell_type": "code",
      "source": [
        "#전기차의 데이터라고 구분해주기위해 추가해줬는데 솔직히 안해도됨\n",
        "df_201512[\"연료별\"] =\"전기\"\n",
        "df_201612[\"연료별\"] =\"전기\"\n",
        "df_201712[\"연료별\"] =\"전기\"\n",
        "df_201812[\"연료별\"] =\"전기\"\n",
        "df_201912[\"연료별\"] =\"전기\"\n",
        "df_202012[\"연료별\"] =\"전기\"\n",
        "df_202112[\"연료별\"] =\"전기\""
      ],
      "metadata": {
        "id": "4KWGUnq5JGW8"
      },
      "execution_count": null,
      "outputs": []
    },
    {
      "cell_type": "code",
      "source": [
        "# 컬럼명 구분하기 쉽게 변경\n",
        "df_201512.columns = ['동별','등록 자동차 수','연료별']\n",
        "df_201612.columns = ['동별','등록 자동차 수','연료별']\n",
        "df_201712.columns = ['동별','등록 자동차 수','연료별']\n",
        "df_201812.columns = ['동별','등록 자동차 수','연료별']\n",
        "df_201912.columns = ['동별','등록 자동차 수','연료별']\n",
        "df_202012.columns = ['동별','등록 자동차 수','연료별']\n",
        "df_202112.columns = ['동별','등록 자동차 수','연료별']"
      ],
      "metadata": {
        "id": "OLbs-hTaJZn5"
      },
      "execution_count": null,
      "outputs": []
    },
    {
      "cell_type": "code",
      "source": [
        "# 동별, 연료별, 등록 자동차 수 순으로 정렬\n",
        "df_201512 = df_201512[[\"동별\",\"연료별\",\"등록 자동차 수\"]]\n",
        "df_201612 = df_201612[[\"동별\",\"연료별\",\"등록 자동차 수\"]]\n",
        "df_201712 = df_201712[[\"동별\",\"연료별\",\"등록 자동차 수\"]]\n",
        "df_201812 = df_201812[[\"동별\",\"연료별\",\"등록 자동차 수\"]]\n",
        "df_201912 = df_201912[[\"동별\",\"연료별\",\"등록 자동차 수\"]]\n",
        "df_202012 = df_202012[[\"동별\",\"연료별\",\"등록 자동차 수\"]]\n",
        "df_202112 = df_202112[[\"동별\",\"연료별\",\"등록 자동차 수\"]]"
      ],
      "metadata": {
        "id": "f04uC2HaJRQU"
      },
      "execution_count": null,
      "outputs": []
    },
    {
      "cell_type": "code",
      "source": [
        "# 년도별, 동별 전기차 등록현황 저장\n",
        "df_201512.to_csv(\"2015_12 동별 전기자동차 등록현황.csv\")\n",
        "df_201612.to_csv(\"2016_12 동별 전기자동차 등록현황.csv\")\n",
        "df_201712.to_csv(\"2017_12 동별 전기자동차 등록현황.csv\")\n",
        "df_201812.to_csv(\"2018_12 동별 전기자동차 등록현황.csv\")\n",
        "df_201912.to_csv(\"2019_12 동별 전기자동차 등록현황.csv\")\n",
        "df_202012.to_csv(\"2020_12 동별 전기자동차 등록현황.csv\")\n",
        "df_202112.to_csv(\"2021_12 동별 전기자동차 등록현황.csv\")"
      ],
      "metadata": {
        "id": "RxAPOgT2J42W"
      },
      "execution_count": null,
      "outputs": []
    },
    {
      "cell_type": "code",
      "source": [
        ""
      ],
      "metadata": {
        "id": "u4V4deABtehf"
      },
      "execution_count": null,
      "outputs": []
    },
    {
      "cell_type": "code",
      "source": [
        "# 전처리할 데이터 불러오기, 동별데이터를 구별 데이터로 만들기 위해 불러옴\n",
        "df_201512= pd.read_csv(\"2015_12 동별 전기자동차 등록현황.csv\")\n",
        "df_201612= pd.read_csv(\"2016_12 동별 전기자동차 등록현황.csv\")\n",
        "df_201712= pd.read_csv(\"2017_12 동별 전기자동차 등록현황.csv\")\n",
        "df_201812= pd.read_csv(\"2018_12 동별 전기자동차 등록현황.csv\")\n",
        "df_201912= pd.read_csv(\"2019_12 동별 전기자동차 등록현황.csv\")\n",
        "df_202012= pd.read_csv(\"2020_12 동별 전기자동차 등록현황.csv\")\n",
        "df_202112= pd.read_csv(\"2021_12 동별 전기자동차 등록현황.csv\")\n"
      ],
      "metadata": {
        "id": "h68V2nHQtej3"
      },
      "execution_count": null,
      "outputs": []
    },
    {
      "cell_type": "code",
      "source": [
        "# 동별이랑 구분되게 복사본 생성\n",
        "df_201512_2= df_201512\n",
        "df_201612_2= df_201612\n",
        "df_201712_2= df_201712\n",
        "df_201812_2= df_201812\n",
        "df_201912_2= df_201912\n",
        "df_202012_2= df_202012\n",
        "df_202112_2= df_202112"
      ],
      "metadata": {
        "id": "pOBjtDu9uhaO"
      },
      "execution_count": null,
      "outputs": []
    },
    {
      "cell_type": "code",
      "source": [
        "# 주소가 서울특별시 ㅁㅁ구 ㅁㅁ동 으로되어있어서 split하면 3개로나눠짐. 그중 [1]이 구 이름이 저장됨\n",
        "df_201512_2[\"구별\"] = df_201512_2[\"동별\"].str.split(\" \").str[1]\n",
        "df_201612_2[\"구별\"] = df_201612_2[\"동별\"].str.split(\" \").str[1]\n",
        "df_201712_2[\"구별\"] = df_201712_2[\"동별\"].str.split(\" \").str[1]\n",
        "df_201812_2[\"구별\"] = df_201812_2[\"동별\"].str.split(\" \").str[1]\n",
        "df_201912_2[\"구별\"] = df_201912_2[\"동별\"].str.split(\" \").str[1]\n",
        "df_202012_2[\"구별\"] = df_202012_2[\"동별\"].str.split(\" \").str[1]\n",
        "df_202112_2[\"구별\"] = df_202112_2[\"동별\"].str.split(\" \").str[1]"
      ],
      "metadata": {
        "id": "g6WX7qaRt--E"
      },
      "execution_count": null,
      "outputs": []
    },
    {
      "cell_type": "code",
      "source": [
        "# 구별 전기차 등록수 계산\n",
        "df_201512_2 = df_201512_2.groupby(\"구별\")[\"등록 자동차 수\"].sum()\n",
        "df_201512_2 = df_201512_2.reset_index()\n",
        "df_201512_2[\"연료별\"] =\"전기\"\n",
        "\n",
        "df_201612_2 = df_201612_2.groupby(\"구별\")[\"등록 자동차 수\"].sum()\n",
        "df_201612_2 = df_201612_2.reset_index()\n",
        "df_201612_2[\"연료별\"] =\"전기\"\n",
        "\n",
        "df_201712_2 = df_201712_2.groupby(\"구별\")[\"등록 자동차 수\"].sum()\n",
        "df_201712_2 = df_201712_2.reset_index()\n",
        "df_201712_2[\"연료별\"] =\"전기\"\n",
        "\n",
        "df_201812_2 = df_201812_2.groupby(\"구별\")[\"등록 자동차 수\"].sum()\n",
        "df_201812_2 = df_201812_2.reset_index()\n",
        "df_201812_2[\"연료별\"] =\"전기\"\n",
        "\n",
        "df_201912_2 = df_201912_2.groupby(\"구별\")[\"등록 자동차 수\"].sum()\n",
        "df_201912_2 = df_201912_2.reset_index()\n",
        "df_201912_2[\"연료별\"] =\"전기\"\n",
        "\n",
        "df_202012_2 = df_202012_2.groupby(\"구별\")[\"등록 자동차 수\"].sum()\n",
        "df_202012_2 = df_202012_2.reset_index()\n",
        "df_202012_2[\"연료별\"] =\"전기\"\n",
        "\n",
        "df_202112_2 = df_202112_2.groupby(\"구별\")[\"등록 자동차 수\"].sum()\n",
        "df_202112_2 = df_202112_2.reset_index()\n",
        "df_202112_2[\"연료별\"] =\"전기\"\n"
      ],
      "metadata": {
        "id": "Wsy1vfXxu3e5"
      },
      "execution_count": null,
      "outputs": []
    },
    {
      "cell_type": "code",
      "source": [
        "# 구별 연료별 등록자동차 순서로 정렬\n",
        "df_201512_2 = df_201512_2[[\"구별\",\"연료별\",\"등록 자동차 수\"]]\n",
        "df_201612_2 = df_201612_2[[\"구별\",\"연료별\",\"등록 자동차 수\"]]\n",
        "df_201712_2 = df_201712_2[[\"구별\",\"연료별\",\"등록 자동차 수\"]]\n",
        "df_201812_2 = df_201812_2[[\"구별\",\"연료별\",\"등록 자동차 수\"]]\n",
        "df_201912_2 = df_201912_2[[\"구별\",\"연료별\",\"등록 자동차 수\"]]\n",
        "df_202012_2 = df_202012_2[[\"구별\",\"연료별\",\"등록 자동차 수\"]]\n",
        "df_202112_2 = df_202112_2[[\"구별\",\"연료별\",\"등록 자동차 수\"]]"
      ],
      "metadata": {
        "id": "aIN4kvs5vGHo"
      },
      "execution_count": null,
      "outputs": []
    },
    {
      "cell_type": "code",
      "source": [
        "# 저장\n",
        "df_201512_2.to_csv(\"2015_12 구별 전기자동차 등록현황.csv\")\n",
        "df_201612_2.to_csv(\"2016_12 구별 전기자동차 등록현황.csv\")\n",
        "df_201712_2.to_csv(\"2017_12 구별 전기자동차 등록현황.csv\")\n",
        "df_201812_2.to_csv(\"2018_12 구별 전기자동차 등록현황.csv\")\n",
        "df_201912_2.to_csv(\"2019_12 구별 전기자동차 등록현황.csv\")\n",
        "df_202012_2.to_csv(\"2020_12 구별 전기자동차 등록현황.csv\")\n",
        "df_202112_2.to_csv(\"2021_12 구별 전기자동차 등록현황.csv\")"
      ],
      "metadata": {
        "id": "yaShw2a3vQjg"
      },
      "execution_count": null,
      "outputs": []
    },
    {
      "cell_type": "code",
      "source": [
        ""
      ],
      "metadata": {
        "id": "m-Dw4bXazZVb"
      },
      "execution_count": null,
      "outputs": []
    },
    {
      "cell_type": "code",
      "source": [
        "# 년도별로 동,구별 현황을 한번에 볼수있게 작업\n",
        "df_201512= pd.read_csv(\"2015_12 동별 전기자동차 등록현황.csv\")\n",
        "df_201612= pd.read_csv(\"2016_12 동별 전기자동차 등록현황.csv\")\n",
        "df_201712= pd.read_csv(\"2017_12 동별 전기자동차 등록현황.csv\")\n",
        "df_201812= pd.read_csv(\"2018_12 동별 전기자동차 등록현황.csv\")\n",
        "df_201912= pd.read_csv(\"2019_12 동별 전기자동차 등록현황.csv\")\n",
        "df_202012= pd.read_csv(\"2020_12 동별 전기자동차 등록현황.csv\")\n",
        "df_202112= pd.read_csv(\"2021_12 동별 전기자동차 등록현황.csv\")"
      ],
      "metadata": {
        "id": "ciN7aTEGzZXi"
      },
      "execution_count": null,
      "outputs": []
    },
    {
      "cell_type": "code",
      "source": [
        "#열을 보기쉽게 변경함.\n",
        "df_201512.columns = ['index','동별','연료별','2015_12 등록된 전기차']\n",
        "df_201612.columns = ['index','동별','연료별','2016_12 등록된 전기차']\n",
        "df_201712.columns = ['index','동별','연료별','2017_12 등록된 전기차']\n",
        "df_201812.columns = ['index','동별','연료별','2018_12 등록된 전기차']\n",
        "df_201912.columns = ['index','동별','연료별','2019_12 등록된 전기차']\n",
        "df_202012.columns = ['index','동별','연료별','2020_12 등록된 전기차']\n",
        "df_202112.columns = ['index','동별','연료별','2021_12 등록된 전기차']"
      ],
      "metadata": {
        "id": "hipWgLu_z4xK"
      },
      "execution_count": null,
      "outputs": []
    },
    {
      "cell_type": "code",
      "source": [
        "# 필요없는 열 삭제.\n",
        "df_201512 = df_201512.drop(['index','연료별'], axis = 1)\n",
        "df_201612 = df_201612.drop(['index','연료별'], axis = 1)\n",
        "df_201712 = df_201712.drop(['index','연료별'], axis = 1)\n",
        "df_201812 = df_201812.drop(['index','연료별'], axis = 1)\n",
        "df_201912 = df_201912.drop(['index','연료별'], axis = 1)\n",
        "df_202012 = df_202012.drop(['index','연료별'], axis = 1)\n",
        "df_202112 = df_202112.drop(['index','연료별'], axis = 1)"
      ],
      "metadata": {
        "id": "9EV4ahxo124E"
      },
      "execution_count": null,
      "outputs": []
    },
    {
      "cell_type": "code",
      "source": [
        "# 하나의파일로 볼수있게 년도별데이터를 머지시켜줌\n",
        "df = pd.merge(df_201512,df_201612, how='outer', on=\"동별\")\n",
        "df = pd.merge(df,df_201712, how='outer', on=\"동별\")\n",
        "df = pd.merge(df,df_201812, how='outer', on=\"동별\")\n",
        "df = pd.merge(df,df_201912, how='outer', on=\"동별\")\n",
        "df = pd.merge(df,df_202012, how='outer', on=\"동별\")\n",
        "df = pd.merge(df,df_202112, how='outer', on=\"동별\")"
      ],
      "metadata": {
        "id": "EZdZLefl0kyE"
      },
      "execution_count": null,
      "outputs": []
    },
    {
      "cell_type": "code",
      "source": [
        "df = df.fillna(0) #전기차가없던곳에는 NAN값이 들어가있어서 0으로 전부 변경"
      ],
      "metadata": {
        "id": "q783eyuJ3hYF"
      },
      "execution_count": null,
      "outputs": []
    },
    {
      "cell_type": "code",
      "source": [
        "df = df.astype({'2015_12 등록된 전기차':'int'})\n",
        "df = df.astype({'2016_12 등록된 전기차':'int','2017_12 등록된 전기차':'int','2018_12 등록된 전기차':'int',\n",
        "                '2019_12 등록된 전기차':'int','2020_12 등록된 전기차':'int','2021_12 등록된 전기차':'int'})\n",
        "# float -> int 형변환"
      ],
      "metadata": {
        "id": "T-UAD2tV3ygO"
      },
      "execution_count": null,
      "outputs": []
    },
    {
      "cell_type": "code",
      "source": [
        "df.info() #확인"
      ],
      "metadata": {
        "id": "dqMF_CSZ4Dgf"
      },
      "execution_count": null,
      "outputs": []
    },
    {
      "cell_type": "code",
      "source": [
        "df.to_csv(\"동별 전기자동차 등록 변경 추세.csv\") # 동별, 년도(2015~2021 변화 추이)데이터 저장"
      ],
      "metadata": {
        "id": "D8B6Tsoa4QEO"
      },
      "execution_count": null,
      "outputs": []
    },
    {
      "cell_type": "code",
      "source": [
        ""
      ],
      "metadata": {
        "id": "AQvMEwe_4SdH"
      },
      "execution_count": null,
      "outputs": []
    },
    {
      "cell_type": "code",
      "source": [
        ""
      ],
      "metadata": {
        "id": "D5u0AOa26atb"
      },
      "execution_count": null,
      "outputs": []
    },
    {
      "cell_type": "code",
      "source": [
        "# 1. 구별 연도별 전기차 등록현황 파일 가져오기\n",
        "df_201512_2= pd.read_csv(\"2015_12 구별 전기자동차 등록현황.csv\")\n",
        "df_201612_2= pd.read_csv(\"2016_12 구별 전기자동차 등록현황.csv\")\n",
        "df_201712_2= pd.read_csv(\"2017_12 구별 전기자동차 등록현황.csv\")\n",
        "df_201812_2= pd.read_csv(\"2018_12 구별 전기자동차 등록현황.csv\")\n",
        "df_201912_2= pd.read_csv(\"2019_12 구별 전기자동차 등록현황.csv\")\n",
        "df_202012_2= pd.read_csv(\"2020_12 구별 전기자동차 등록현황.csv\")\n",
        "df_202112_2= pd.read_csv(\"2021_12 구별 전기자동차 등록현황.csv\")"
      ],
      "metadata": {
        "id": "vXh4hlGB6avw"
      },
      "execution_count": null,
      "outputs": []
    },
    {
      "cell_type": "code",
      "source": [
        "# 알아보기쉽게 열 이름 변경\n",
        "df_201512_2.columns = ['index','구별','연료별','2015_12 등록된 전기차']\n",
        "df_201612_2.columns = ['index','구별','연료별','2016_12 등록된 전기차']\n",
        "df_201712_2.columns = ['index','구별','연료별','2017_12 등록된 전기차']\n",
        "df_201812_2.columns = ['index','구별','연료별','2018_12 등록된 전기차']\n",
        "df_201912_2.columns = ['index','구별','연료별','2019_12 등록된 전기차']\n",
        "df_202012_2.columns = ['index','구별','연료별','2020_12 등록된 전기차']\n",
        "df_202112_2.columns = ['index','구별','연료별','2021_12 등록된 전기차']"
      ],
      "metadata": {
        "id": "EBI6kDUo7SUt"
      },
      "execution_count": null,
      "outputs": []
    },
    {
      "cell_type": "code",
      "source": [
        "# 2. 정리하는데 필요없는 인덱스 삭제\n",
        "df_201512_2 = df_201512_2.drop(['index','연료별'], axis = 1)\n",
        "df_201612_2 = df_201612_2.drop(['index','연료별'], axis = 1)\n",
        "df_201712_2 = df_201712_2.drop(['index','연료별'], axis = 1)\n",
        "df_201812_2 = df_201812_2.drop(['index','연료별'], axis = 1)\n",
        "df_201912_2 = df_201912_2.drop(['index','연료별'], axis = 1)\n",
        "df_202012_2 = df_202012_2.drop(['index','연료별'], axis = 1)\n",
        "df_202112_2 = df_202112_2.drop(['index','연료별'], axis = 1)"
      ],
      "metadata": {
        "id": "F_gRJ-cA6iMc"
      },
      "execution_count": null,
      "outputs": []
    },
    {
      "cell_type": "code",
      "source": [
        "# 한번에 볼수있게 데이터 하나씩 머지시켜줌\n",
        "df_2 = pd.merge(df_201512_2,df_201612_2, how='outer', on=\"구별\")\n",
        "df_2 = pd.merge(df_2,df_201712_2, how='outer', on=\"구별\")\n",
        "df_2 = pd.merge(df_2,df_201812_2, how='outer', on=\"구별\")\n",
        "df_2 = pd.merge(df_2,df_201912_2, how='outer', on=\"구별\")\n",
        "df_2 = pd.merge(df_2,df_202012_2, how='outer', on=\"구별\")\n",
        "df_2 = pd.merge(df_2,df_202112_2, how='outer', on=\"구별\")"
      ],
      "metadata": {
        "id": "LFzjS-sl7KCX"
      },
      "execution_count": null,
      "outputs": []
    },
    {
      "cell_type": "code",
      "source": [
        "df_2.info()"
      ],
      "metadata": {
        "id": "oUW7jXRI9-eo"
      },
      "execution_count": null,
      "outputs": []
    },
    {
      "cell_type": "code",
      "source": [
        "df_2.to_csv(\"구별 전기자동차 등록 변경 추세.csv\") #데이터 저장"
      ],
      "metadata": {
        "id": "Sw6ym23W-CdV"
      },
      "execution_count": null,
      "outputs": []
    },
    {
      "cell_type": "code",
      "source": [
        ""
      ],
      "metadata": {
        "id": "lh2kDk14-GbB"
      },
      "execution_count": null,
      "outputs": []
    }
  ]
}