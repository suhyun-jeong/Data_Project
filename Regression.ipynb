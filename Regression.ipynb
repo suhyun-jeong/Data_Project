{
 "cells": [
  {
   "cell_type": "code",
   "execution_count": null,
   "id": "dd780a46",
   "metadata": {},
   "outputs": [],
   "source": [
    "import numpy as np\n",
    "import pandas as pd\n",
    "import matplotlib.pyplot as plt\n",
    "import seaborn as sns\n",
    "\n",
    "import matplotlib.font_manager as fm\n",
    "font_name = fm.FontProperties(fname=\"C:\\\\Windows\\\\Fonts\\\\malgun.ttf\").get_name()\n",
    "plt.rc(\"font\", family=font_name)\n",
    "\n",
    "import matplotlib as mlp\n",
    "mlp.rcParams[\"axes.unicode_minus\"] = False"
   ]
  },
  {
   "cell_type": "code",
   "execution_count": null,
   "id": "8fce6cd8",
   "metadata": {},
   "outputs": [],
   "source": [
    "from sklearn.model_selection import train_test_split\n",
    "from sklearn.model_selection import GridSearchCV\n",
    "from sklearn.model_selection import cross_val_score\n",
    "\n",
    "from sklearn.metrics import accuracy_score, confusion_matrix\n",
    "from sklearn.metrics import classification_report,roc_curve"
   ]
  },
  {
   "cell_type": "code",
   "execution_count": null,
   "id": "7766afcb",
   "metadata": {},
   "outputs": [],
   "source": [
    "from sklearn.linear_model import Ridge"
   ]
  },
  {
   "cell_type": "code",
   "execution_count": null,
   "id": "0e30a39f",
   "metadata": {},
   "outputs": [],
   "source": [
    "df = pd.read_csv(\"data/450m최종데이터.csv\").fillna(0)\n",
    "df"
   ]
  },
  {
   "cell_type": "code",
   "execution_count": null,
   "id": "3f7b6c9f",
   "metadata": {},
   "outputs": [],
   "source": [
    "num_max = df[\"급속\"].max()\n",
    "num_min = df[\"급속\"].min()\n",
    "df[\"급속\"] = (df[\"급속\"]-num_min)/(num_max-num_min)\n",
    "df"
   ]
  },
  {
   "cell_type": "code",
   "execution_count": 5,
   "id": "6ed1c6ef",
   "metadata": {
    "collapsed": true
   },
   "outputs": [
    {
     "data": {
      "text/plain": [
       "급속\n",
       "0     41572\n",
       "1     11059\n",
       "2      5716\n",
       "3      2952\n",
       "4      1590\n",
       "5       657\n",
       "6       571\n",
       "7       267\n",
       "8        85\n",
       "11       70\n",
       "10       51\n",
       "12       49\n",
       "9        26\n",
       "13        5\n",
       "14        5\n",
       "16        1\n",
       "dtype: int64"
      ]
     },
     "execution_count": 5,
     "metadata": {},
     "output_type": "execute_result"
    }
   ],
   "source": [
    "X = df.iloc[:,[1,2,3,4,5,6,7,8,9,10,11,12,13,14,15]]\n",
    "y = df.iloc[:,[17]]\n",
    "y.value_counts()"
   ]
  },
  {
   "cell_type": "code",
   "execution_count": 6,
   "id": "77abbb6b",
   "metadata": {},
   "outputs": [
    {
     "name": "stdout",
     "output_type": "stream",
     "text": [
      "(58208, 15) (6468, 15)\n"
     ]
    }
   ],
   "source": [
    "X_train, X_test, y_train, y_test = train_test_split(X, y, random_state=3, test_size=0.1)\n",
    "print(X_train.shape, X_test.shape)"
   ]
  },
  {
   "cell_type": "code",
   "execution_count": 8,
   "id": "694a243d",
   "metadata": {},
   "outputs": [
    {
     "name": "stdout",
     "output_type": "stream",
     "text": [
      "훈련점수:  0.056240628996402475\n",
      "테스트 점수:  0.038343890406556724\n"
     ]
    }
   ],
   "source": [
    "ridge = Ridge(alpha=1.0).fit(X_train, y_train) \n",
    "print(\"훈련점수: \",ridge.score(X_train, y_train))\n",
    "print(\"테스트 점수: \",ridge.score(X_test, y_test))"
   ]
  },
  {
   "cell_type": "code",
   "execution_count": 10,
   "id": "317456f2",
   "metadata": {},
   "outputs": [
    {
     "name": "stdout",
     "output_type": "stream",
     "text": [
      "훈련점수:  0.056240628996402475\n",
      "테스트 점수:  0.038343890406556724\n"
     ]
    }
   ],
   "source": [
    "ridge10 = Ridge(alpha=10).fit(X_train, y_train) \n",
    "print(\"훈련점수: \",ridge10.score(X_train, y_train))\n",
    "print(\"테스트 점수: \",ridge10.score(X_test, y_test))"
   ]
  },
  {
   "cell_type": "code",
   "execution_count": 11,
   "id": "d300355c",
   "metadata": {},
   "outputs": [
    {
     "name": "stdout",
     "output_type": "stream",
     "text": [
      "훈련점수:  0.057878040436267986\n",
      "테스트 점수:  0.03677093361037531\n"
     ]
    }
   ],
   "source": [
    "ridge01 = Ridge(alpha=0.1).fit(X_train, y_train) \n",
    "print(\"훈련점수: \",ridge01.score(X_train, y_train))\n",
    "print(\"테스트 점수: \",ridge01.score(X_test, y_test))"
   ]
  },
  {
   "cell_type": "code",
   "execution_count": 12,
   "id": "92bb9b42",
   "metadata": {},
   "outputs": [],
   "source": [
    "from sklearn.linear_model import Lasso"
   ]
  },
  {
   "cell_type": "code",
   "execution_count": 13,
   "id": "52bc5241",
   "metadata": {},
   "outputs": [
    {
     "name": "stdout",
     "output_type": "stream",
     "text": [
      "훈련점수:  0.0\n",
      "테스트 점수:  -0.00032272946029787697\n"
     ]
    }
   ],
   "source": [
    "lasso = Lasso(alpha=1.0).fit(X_train, y_train) ## default -> alpha=1.0\n",
    "\n",
    "print(\"훈련점수: \",lasso.score(X_train, y_train))\n",
    "print(\"테스트 점수: \",lasso.score(X_test, y_test))"
   ]
  },
  {
   "cell_type": "code",
   "execution_count": 14,
   "id": "05276b18",
   "metadata": {},
   "outputs": [
    {
     "name": "stdout",
     "output_type": "stream",
     "text": [
      "훈련점수:  0.05782517391403397\n",
      "테스트 점수:  0.03711759977566198\n"
     ]
    }
   ],
   "source": [
    "lasso0001 = Lasso(alpha=0.0001).fit(X_train, y_train) ## default -> alpha=1.0\n",
    "\n",
    "print(\"훈련점수: \",lasso0001.score(X_train, y_train))\n",
    "print(\"테스트 점수: \",lasso0001.score(X_test, y_test))"
   ]
  },
  {
   "cell_type": "code",
   "execution_count": 15,
   "id": "c945c072",
   "metadata": {},
   "outputs": [],
   "source": [
    "from sklearn.linear_model import LinearRegression"
   ]
  },
  {
   "cell_type": "code",
   "execution_count": 19,
   "id": "79cb0cea",
   "metadata": {},
   "outputs": [
    {
     "name": "stdout",
     "output_type": "stream",
     "text": [
      "훈련점수:  0.05787840234499386\n",
      "테스트 점수:  0.03672219605347382\n"
     ]
    }
   ],
   "source": [
    "model = LinearRegression()\n",
    "model.fit(X_train, y_train)\n",
    "print(\"훈련점수: \",model.score(X_train, y_train))\n",
    "print(\"테스트 점수: \",model.score(X_test, y_test))"
   ]
  },
  {
   "cell_type": "code",
   "execution_count": 18,
   "id": "a8020d4f",
   "metadata": {},
   "outputs": [
    {
     "data": {
      "text/plain": [
       "0.05787840234499386"
      ]
     },
     "execution_count": 18,
     "metadata": {},
     "output_type": "execute_result"
    }
   ],
   "source": [
    "model.score(X_train, y_train)"
   ]
  }
 ],
 "metadata": {
  "kernelspec": {
   "display_name": "Python 3 (ipykernel)",
   "language": "python",
   "name": "python3"
  },
  "language_info": {
   "codemirror_mode": {
    "name": "ipython",
    "version": 3
   },
   "file_extension": ".py",
   "mimetype": "text/x-python",
   "name": "python",
   "nbconvert_exporter": "python",
   "pygments_lexer": "ipython3",
   "version": "3.8.5"
  }
 },
 "nbformat": 4,
 "nbformat_minor": 5
}
