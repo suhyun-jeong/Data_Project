{
 "cells": [
  {
   "cell_type": "markdown",
   "id": "2973b700",
   "metadata": {},
   "source": [
    "### 서울 격자 데이터 및 각 격자에 포함된 시설물 데이터 전처리 과정"
   ]
  },
  {
   "cell_type": "markdown",
   "id": "a19e46d0",
   "metadata": {},
   "source": [
    "#### 사용된 데이터\n",
    "+ 전체 격자 코드(gid) 파일 1\n",
    "+ 각 격자별 행정동 파일 1\n",
    "+ 격자에 포함된 분류별 시설 파일 3\n",
    "\n",
    "#### 전처리 내용\n",
    "+ gid를 기준으로 하나로 합치기 (중복 제거)\n",
    "+ 결측치는 0으로 채우기\n",
    "+ 각 시설을 분류별로 나누어 코드 지정하기"
   ]
  },
  {
   "cell_type": "markdown",
   "id": "43c39629",
   "metadata": {},
   "source": [
    "---"
   ]
  },
  {
   "cell_type": "code",
   "execution_count": 1,
   "id": "1c6ff0a9",
   "metadata": {},
   "outputs": [],
   "source": [
    "# 0. 라이브러리 임포트\n",
    "\n",
    "import numpy as np\n",
    "import pandas as pd"
   ]
  },
  {
   "cell_type": "code",
   "execution_count": 2,
   "id": "7622e8a0",
   "metadata": {},
   "outputs": [],
   "source": [
    "# 1. 데이터 파일 불러오기\n",
    "\n",
    "# 격자(gid)\n",
    "gids = pd.read_csv(\"./data/Grid_Facilities/격자.csv\")\n",
    "\n",
    "# 행정동\n",
    "grid_dong = pd.read_csv(\"./data/Grid_Facilities/격자_행정동.csv\", header = None, names = [\"gid\", \"행정동\"], skiprows = 1)\n",
    "\n",
    "# 시설물\n",
    "facility1 = pd.read_csv(\"./data/Grid_Facilities/공공_문화체육.csv\", header = None, names = [\"공공_문화체육\", \"gid\"], skiprows = 1)\n",
    "facility2 = pd.read_csv(\"./data/Grid_Facilities/유통_공급시설.csv\", header = None, names = [\"유통_공급시설\", \"gid\"], skiprows = 1)\n",
    "facility3 = pd.read_csv(\"./data/Grid_Facilities/환경기초시설.csv\", header = None, names = [\"환경기초시설\", \"gid\"], skiprows = 1)"
   ]
  },
  {
   "cell_type": "code",
   "execution_count": 3,
   "id": "88d1bf99",
   "metadata": {},
   "outputs": [],
   "source": [
    "# 2. 무의미한 열 제거 및 gid로 정렬하기\n",
    "\n",
    "gids = pd.DataFrame(gids[\"gid\"].sort_values(ignore_index = True))\n",
    "grid_dong.sort_values(by = \"gid\", ignore_index = True, inplace = True)"
   ]
  },
  {
   "cell_type": "code",
   "execution_count": 4,
   "id": "5ecc1932",
   "metadata": {},
   "outputs": [],
   "source": [
    "# 3. 시설물 데이터의 오탈자 수정, 시설 분류 추가하기\n",
    "\n",
    "# 3-1. 공공_문화체육\n",
    "facility1.replace(\"-\", np.nan, inplace = True)\n",
    "facility1.replace(\"\", np.nan, inplace = True)\n",
    "facility1.replace(\"신정119안전센터\", \"신정119안전센터 (소방서)\", inplace = True)\n",
    "facility1.replace(\"서울남부여성발전센터\", \"서울남부여성발전센터 (복지센터)\", inplace = True)\n",
    "facility1.replace(\"서울교원연수원\", \"서울교원연수원 (교육청 산하)\", inplace = True)\n",
    "facility1.replace(\"총포화학협회\", \"총포화학협회 (경찰청 산하)\", inplace = True)\n",
    "facility1.replace(\"송파건문소\", \"송파검문소\", inplace = True)\n",
    "facility1.replace(\"학교(증산초)\", \"증산초등학교\", inplace = True)\n",
    "facility1.replace(\"신방학중학\", \"신방학중학교\", inplace = True)\n",
    "facility1.replace(\"경기기계공\", \"경기기계공업고등학교\", inplace = True)\n",
    "facility1.replace(\"성동여실고\", \"성동여실고등학교\", inplace = True)\n",
    "facility1.replace(\"다니엘학교\", \"다니엘학교 (특수학교)\", inplace = True)\n",
    "facility1.replace(\"삼성농아학교\", \"삼성농아학교 (특수학교)\", inplace = True)\n",
    "facility1.replace(\"서울정인학교\", \"서울정인학교 (특수학교)\", inplace = True)\n",
    "facility1.replace(\"서울정진학교\", \"서울정진학교 (특수학교)\", inplace = True)\n",
    "facility1.replace(\"선희농아학교\", \"선희농아학교 (특수학교)\", inplace = True)\n",
    "facility1.replace(\"한국육영학교\", \"한국육영학교 (특수학교)\", inplace = True)\n",
    "facility1.replace(\"한양대유아교육관,어학관\", \"한양대학교 유아교육관,어학관\", inplace = True)\n",
    "facility1.replace(\"동인사마당\", \"문화시설 (동인사마당)\", inplace = True)\n",
    "\n",
    "# 3-2. 유통_공급시설\n",
    "facility2.replace(\"서울쇼핑센타\", \"서울쇼핑센터\", inplace = True)\n",
    "facility2.replace(\"롯데쇼핑\", \"롯데쇼핑센터\", inplace = True)"
   ]
  },
  {
   "cell_type": "code",
   "execution_count": 5,
   "id": "a1838cfd",
   "metadata": {},
   "outputs": [
    {
     "data": {
      "text/html": [
       "<div>\n",
       "<style scoped>\n",
       "    .dataframe tbody tr th:only-of-type {\n",
       "        vertical-align: middle;\n",
       "    }\n",
       "\n",
       "    .dataframe tbody tr th {\n",
       "        vertical-align: top;\n",
       "    }\n",
       "\n",
       "    .dataframe thead th {\n",
       "        text-align: right;\n",
       "    }\n",
       "</style>\n",
       "<table border=\"1\" class=\"dataframe\">\n",
       "  <thead>\n",
       "    <tr style=\"text-align: right;\">\n",
       "      <th></th>\n",
       "      <th>gid</th>\n",
       "      <th>행정동</th>\n",
       "      <th>공공_문화체육</th>\n",
       "      <th>유통_공급시설</th>\n",
       "      <th>환경기초시설</th>\n",
       "    </tr>\n",
       "  </thead>\n",
       "  <tbody>\n",
       "    <tr>\n",
       "      <th>0</th>\n",
       "      <td>다사350508</td>\n",
       "      <td>공항동</td>\n",
       "      <td>NaN</td>\n",
       "      <td>NaN</td>\n",
       "      <td>NaN</td>\n",
       "    </tr>\n",
       "    <tr>\n",
       "      <th>1</th>\n",
       "      <td>다사350509</td>\n",
       "      <td>공항동</td>\n",
       "      <td>NaN</td>\n",
       "      <td>NaN</td>\n",
       "      <td>NaN</td>\n",
       "    </tr>\n",
       "    <tr>\n",
       "      <th>2</th>\n",
       "      <td>다사351507</td>\n",
       "      <td>공항동</td>\n",
       "      <td>NaN</td>\n",
       "      <td>NaN</td>\n",
       "      <td>NaN</td>\n",
       "    </tr>\n",
       "    <tr>\n",
       "      <th>3</th>\n",
       "      <td>다사351508</td>\n",
       "      <td>공항동</td>\n",
       "      <td>NaN</td>\n",
       "      <td>NaN</td>\n",
       "      <td>NaN</td>\n",
       "    </tr>\n",
       "    <tr>\n",
       "      <th>4</th>\n",
       "      <td>다사351509</td>\n",
       "      <td>공항동</td>\n",
       "      <td>NaN</td>\n",
       "      <td>NaN</td>\n",
       "      <td>NaN</td>\n",
       "    </tr>\n",
       "    <tr>\n",
       "      <th>...</th>\n",
       "      <td>...</td>\n",
       "      <td>...</td>\n",
       "      <td>...</td>\n",
       "      <td>...</td>\n",
       "      <td>...</td>\n",
       "    </tr>\n",
       "    <tr>\n",
       "      <th>76460</th>\n",
       "      <td>다사720495</td>\n",
       "      <td>강일동</td>\n",
       "      <td>NaN</td>\n",
       "      <td>NaN</td>\n",
       "      <td>NaN</td>\n",
       "    </tr>\n",
       "    <tr>\n",
       "      <th>76461</th>\n",
       "      <td>다사720496</td>\n",
       "      <td>강일동</td>\n",
       "      <td>NaN</td>\n",
       "      <td>NaN</td>\n",
       "      <td>NaN</td>\n",
       "    </tr>\n",
       "    <tr>\n",
       "      <th>76462</th>\n",
       "      <td>다사720499</td>\n",
       "      <td>강일동</td>\n",
       "      <td>NaN</td>\n",
       "      <td>NaN</td>\n",
       "      <td>NaN</td>\n",
       "    </tr>\n",
       "    <tr>\n",
       "      <th>76463</th>\n",
       "      <td>다사720501</td>\n",
       "      <td>강일동</td>\n",
       "      <td>NaN</td>\n",
       "      <td>NaN</td>\n",
       "      <td>NaN</td>\n",
       "    </tr>\n",
       "    <tr>\n",
       "      <th>76464</th>\n",
       "      <td>다사720502</td>\n",
       "      <td>강일동</td>\n",
       "      <td>NaN</td>\n",
       "      <td>NaN</td>\n",
       "      <td>NaN</td>\n",
       "    </tr>\n",
       "  </tbody>\n",
       "</table>\n",
       "<p>63826 rows × 5 columns</p>\n",
       "</div>"
      ],
      "text/plain": [
       "            gid  행정동 공공_문화체육 유통_공급시설 환경기초시설\n",
       "0      다사350508  공항동     NaN     NaN    NaN\n",
       "1      다사350509  공항동     NaN     NaN    NaN\n",
       "2      다사351507  공항동     NaN     NaN    NaN\n",
       "3      다사351508  공항동     NaN     NaN    NaN\n",
       "4      다사351509  공항동     NaN     NaN    NaN\n",
       "...         ...  ...     ...     ...    ...\n",
       "76460  다사720495  강일동     NaN     NaN    NaN\n",
       "76461  다사720496  강일동     NaN     NaN    NaN\n",
       "76462  다사720499  강일동     NaN     NaN    NaN\n",
       "76463  다사720501  강일동     NaN     NaN    NaN\n",
       "76464  다사720502  강일동     NaN     NaN    NaN\n",
       "\n",
       "[63826 rows x 5 columns]"
      ]
     },
     "execution_count": 5,
     "metadata": {},
     "output_type": "execute_result"
    }
   ],
   "source": [
    "# 4. gid를 기준으로 조인 후, 중복되는 행 제거하기\n",
    "\n",
    "grid_facilities = pd.merge(gids, grid_dong, on = \"gid\", how = \"inner\")\n",
    "grid_facilities = pd.merge(grid_facilities, facility1, on = \"gid\", how = \"outer\")\n",
    "grid_facilities = pd.merge(grid_facilities, facility2, on = \"gid\", how = \"outer\")\n",
    "grid_facilities = pd.merge(grid_facilities, facility3, on = \"gid\", how = \"outer\")\n",
    "\n",
    "grid_facilities.drop_duplicates()"
   ]
  },
  {
   "cell_type": "code",
   "execution_count": 6,
   "id": "a6256a7c",
   "metadata": {
    "scrolled": true
   },
   "outputs": [],
   "source": [
    "# 5. 결측치 처리하기 - 0으로 채움\n",
    "\n",
    "grid_facilities.replace(np.nan, 0, inplace = True)\n",
    "\n",
    "# grid_facilities.info()  # 확인용"
   ]
  },
  {
   "cell_type": "code",
   "execution_count": 7,
   "id": "1be7d2a0",
   "metadata": {
    "scrolled": false
   },
   "outputs": [],
   "source": [
    "# 6. csv로 저장하기 1\n",
    "\n",
    "grid_facilities.to_csv(\"./data/Grid_Facilities/grid_facilities_name.csv\")"
   ]
  },
  {
   "cell_type": "code",
   "execution_count": 7,
   "id": "96a0cee7",
   "metadata": {
    "scrolled": false
   },
   "outputs": [
    {
     "name": "stdout",
     "output_type": "stream",
     "text": [
      "<class 'pandas.core.frame.DataFrame'>\n",
      "Int64Index: 76465 entries, 0 to 76464\n",
      "Data columns (total 5 columns):\n",
      " #   Column   Non-Null Count  Dtype \n",
      "---  ------   --------------  ----- \n",
      " 0   gid      76465 non-null  object\n",
      " 1   행정동      76465 non-null  object\n",
      " 2   공공_문화체육  76465 non-null  int64 \n",
      " 3   유통_공급시설  76465 non-null  int64 \n",
      " 4   환경기초시설   76465 non-null  int64 \n",
      "dtypes: int64(3), object(2)\n",
      "memory usage: 3.5+ MB\n",
      "\t\n",
      "<class 'pandas.core.frame.DataFrame'>\n",
      "RangeIndex: 76465 entries, 0 to 76464\n",
      "Data columns (total 6 columns):\n",
      " #   Column      Non-Null Count  Dtype \n",
      "---  ------      --------------  ----- \n",
      " 0   Unnamed: 0  76465 non-null  int64 \n",
      " 1   gid         76465 non-null  object\n",
      " 2   행정동         76465 non-null  object\n",
      " 3   공공_문화체육     76465 non-null  object\n",
      " 4   유통_공급시설     76465 non-null  object\n",
      " 5   환경기초시설      76465 non-null  object\n",
      "dtypes: int64(1), object(5)\n",
      "memory usage: 3.5+ MB\n"
     ]
    }
   ],
   "source": [
    "# 7. 단위 격자에 시설물이 존재하면 1, 없으면 0으로 매핑하기\n",
    "\n",
    "def change_name_to_code(facility_name): \n",
    "    if facility_name == 0:\n",
    "        return 0\n",
    "    else: \n",
    "        return 1\n",
    "\n",
    "####################\n",
    "\n",
    "# 복사본\n",
    "grid_facilities_code = grid_facilities\n",
    "\n",
    "grid_facilities_code[\"공공_문화체육\"] = grid_facilities[\"공공_문화체육\"].apply(change_name_to_code)\n",
    "grid_facilities_code[\"유통_공급시설\"] = grid_facilities[\"유통_공급시설\"].apply(change_name_to_code)\n",
    "grid_facilities_code[\"환경기초시설\"] = grid_facilities[\"환경기초시설\"].apply(change_name_to_code)\n",
    "\n",
    "grid_facilities_code.info()  # 확인용\n",
    "\n",
    "print(\"\\t\")\n",
    "\n",
    "# 원본 복구\n",
    "grid_facilities = pd.read_csv(\"./data/Grid_Facilities/grid_facilities_name.csv\")\n",
    "\n",
    "grid_facilities.info()   # 확인용"
   ]
  },
  {
   "cell_type": "code",
   "execution_count": 8,
   "id": "bfe104c1",
   "metadata": {},
   "outputs": [],
   "source": [
    "# 8. csv로 저장하기 2\n",
    "\n",
    "grid_facilities_code.to_csv(\"./data/Grid_Facilities/grid_facilities_code.csv\")"
   ]
  }
 ],
 "metadata": {
  "kernelspec": {
   "display_name": "Python 3 (ipykernel)",
   "language": "python",
   "name": "python3"
  },
  "language_info": {
   "codemirror_mode": {
    "name": "ipython",
    "version": 3
   },
   "file_extension": ".py",
   "mimetype": "text/x-python",
   "name": "python",
   "nbconvert_exporter": "python",
   "pygments_lexer": "ipython3",
   "version": "3.9.12"
  }
 },
 "nbformat": 4,
 "nbformat_minor": 5
}
